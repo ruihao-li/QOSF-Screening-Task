{
 "cells": [
  {
   "cell_type": "markdown",
   "metadata": {},
   "source": [
    "## Task 2"
   ]
  },
  {
   "cell_type": "code",
   "execution_count": 39,
   "metadata": {},
   "outputs": [],
   "source": [
    "import pennylane as qml\n",
    "from pennylane import numpy as np\n",
    "import pandas as pd\n",
    "import matplotlib.pyplot as plt"
   ]
  },
  {
   "cell_type": "markdown",
   "metadata": {},
   "source": [
    "First, let us load the (training and testing) data and store them as numpy arrays."
   ]
  },
  {
   "cell_type": "code",
   "execution_count": 279,
   "metadata": {},
   "outputs": [
    {
     "name": "stdout",
     "output_type": "stream",
     "text": [
      "(300, 5)\n",
      "(120, 5)\n"
     ]
    }
   ],
   "source": [
    "train_data = pd.read_csv('mock_train_set.csv')\n",
    "train_data = train_data.astype({\"0\": float, \"1\":float, \"2\":float, \"3\":float, \"4\":int})\n",
    "test_data = pd.read_csv('mock_test_set.csv')\n",
    "test_data = test_data.astype({\"0\": float, \"1\":float, \"2\":float, \"3\":float, \"4\":int})\n",
    "print(train_data.shape)\n",
    "print(test_data.shape)"
   ]
  },
  {
   "cell_type": "code",
   "execution_count": 280,
   "metadata": {},
   "outputs": [],
   "source": [
    "train_feat = train_data[[\"0\", \"1\", \"2\", \"3\"]].to_numpy()\n",
    "train_labels = train_data[\"4\"].to_numpy()\n",
    "test_feat = test_data[[\"0\", \"1\", \"2\", \"3\"]].to_numpy()\n",
    "test_labels = test_data[\"4\"].to_numpy()"
   ]
  },
  {
   "cell_type": "code",
   "execution_count": 281,
   "metadata": {},
   "outputs": [],
   "source": [
    "# Feature data normalized to unit vectors (with unit norm)\n",
    "norm_train = np.sqrt(np.sum(train_feat**2, -1))\n",
    "X_train = (train_feat.T/norm_train).T\n",
    "X_train.requires_grad=False\n",
    "# Convert labels to 1 and -1\n",
    "Y_train = np.array(1 - 2*train_labels, requires_grad=False)\n",
    "\n",
    "norm_test = np.sqrt(np.sum(test_feat**2, -1))\n",
    "X_test = (test_feat.T/norm_test).T\n",
    "X_test.requires_grad=False\n",
    "# Convert labels to 1/-1\n",
    "Y_test = np.array(1 - 2*test_labels, requires_grad=False)"
   ]
  },
  {
   "cell_type": "markdown",
   "metadata": {},
   "source": [
    "#### 1. Amplitude Encoding"
   ]
  },
  {
   "cell_type": "markdown",
   "metadata": {},
   "source": [
    "To encode 4 features using amplitude encoding, we need only 2 qubits."
   ]
  },
  {
   "cell_type": "code",
   "execution_count": 234,
   "metadata": {},
   "outputs": [],
   "source": [
    "def square_loss(labels, predictions):\n",
    "    \"\"\"\n",
    "    Computes the standard square loss between model predictions and true labels.\n",
    "\n",
    "    Args:\n",
    "        - labels (list(int)): true labels (1/-1)\n",
    "        - predictions (list(int)): model predictions (1/-1)\n",
    "\n",
    "    Returns:\n",
    "        - loss (float): the square loss\n",
    "    \"\"\"\n",
    "\n",
    "    loss = 0\n",
    "    for l, p in zip(labels, predictions):\n",
    "        loss = loss + (l - p) ** 2\n",
    "\n",
    "    loss = loss / len(labels)\n",
    "    return loss\n",
    "\n",
    "def accuracy(labels, predictions):\n",
    "    \"\"\"\n",
    "    Computes the accuracy of the model's predictions against the true labels.\n",
    "\n",
    "    Args:\n",
    "        - labels (list(int)): true labels (1/-1)\n",
    "        - predictions (list(int)): model predictions (1/-1)\n",
    "\n",
    "    Returns:\n",
    "        - acc (float): the accuracy\n",
    "    \"\"\"\n",
    "\n",
    "    acc = 0\n",
    "    for l, p in zip(labels, predictions):\n",
    "        if abs(l - p) < 1e-5:\n",
    "            acc = acc + 1\n",
    "    acc = acc / len(labels)\n",
    "\n",
    "    return acc\n",
    "\n",
    "def AmpEnc_Classifier(train_sets, train_labels, num_layers, test_sets=None, test_labels=None):\n",
    "    \"\"\"\n",
    "    Train the classifier model based on amplitude embedding and computes the accuracy of the predections based on the testing data.\n",
    "\n",
    "    Args:\n",
    "        - train_sets (np.ndarray): features of the training datasets\n",
    "        - train_labels (np.ndarray): labels (categories) of the training datasets\n",
    "        - num_layers (int): number of layers of the variational ansatz\n",
    "        - test_sets (np.ndarray): features of the testing datasets\n",
    "        - test_labels (np.ndarray): labels (categories) of the testing datasets\n",
    "\n",
    "    Returns:\n",
    "        - acc_test (float): accuracy of the predictions based on the testing datasets\n",
    "    \"\"\"\n",
    "\n",
    "    dev = qml.device(\"lightning.qubit\", wires=2)\n",
    "\n",
    "    def layer(W):\n",
    "        # Start with a simple layer with RX, RY, RZ, and CNOT gates\n",
    "        for i in range(2):\n",
    "            qml.RX(W[i,0], wires=i)\n",
    "            qml.RY(W[i,1], wires=i)\n",
    "            qml.RZ(W[i,2], wires=i)\n",
    "        qml.CNOT(wires=[0,1])\n",
    "\n",
    "    @qml.qnode(dev)\n",
    "    def circuit(weights, x):\n",
    "        qml.AmplitudeEmbedding(x, wires=range(2))\n",
    "        for W in weights:\n",
    "            layer(W)\n",
    "        return qml.expval(qml.PauliZ(1))\n",
    "\n",
    "    def var_classifier(weights, bias, x):\n",
    "        return circuit(weights, x) + bias\n",
    "    \n",
    "    def cost(weights, bias, X, Y):\n",
    "        predictions = [var_classifier(weights, bias, x) for x in X]\n",
    "        return square_loss(predictions, Y)\n",
    "\n",
    "    # Set up the training procedure\n",
    "    data_size = len(train_sets)\n",
    "    train_size = int(0.75*data_size)\n",
    "    index = np.random.permutation(range(data_size))\n",
    "    X_train = train_sets[index[:train_size]]\n",
    "    Y_train = train_labels[index[:train_size]]\n",
    "    X_val = train_sets[index[train_size:]]\n",
    "    Y_val = train_labels[index[train_size:]]\n",
    "\n",
    "    init_weights = np.random.uniform(low=0, high=2*np.pi, size=(num_layers, 2, 3), requires_grad=True)\n",
    "    init_bias = np.array(0.0, requires_grad=True)\n",
    "    opt = qml.AdagradOptimizer(0.05)\n",
    "    batch_size = 5\n",
    "    max_iters = 100\n",
    "\n",
    "    weights = init_weights\n",
    "    bias = init_bias\n",
    "\n",
    "    for i in range(max_iters+1):\n",
    "        batch_index = np.random.randint(0, train_size, (batch_size,))\n",
    "        X_train_batch = X_train[batch_index]\n",
    "        Y_train_batch = Y_train[batch_index]\n",
    "        weights, bias, _, _ = opt.step(cost, weights, bias, X_train_batch, Y_train_batch)\n",
    "\n",
    "        predictions_train = [np.sign(var_classifier(weights, bias, x)) for x in X_train]\n",
    "        predictions_val = [np.sign(var_classifier(weights, bias, x)) for x in X_val]\n",
    "\n",
    "        # Compare accuracy on train and validation sets\n",
    "        acc_train = accuracy(Y_train, predictions_train)\n",
    "        acc_val = accuracy(Y_val, predictions_val)\n",
    "\n",
    "        if test_sets is None and test_labels is None:\n",
    "            if i%10 == 0:\n",
    "                print(\n",
    "                \"Iter: {:5d} | Cost: {:0.7f} | Acc train: {:0.7f} | Acc validation: {:0.7f} \"\n",
    "                \"\".format(i, cost(weights, bias, train_sets, train_labels), acc_train, acc_val)\n",
    "                )\n",
    "\n",
    "    if test_sets is None and test_labels is None:\n",
    "        pass \n",
    "    else:\n",
    "        predictions_test = [np.sign(var_classifier(weights, bias, x)) for x in test_sets]\n",
    "        acc_test = accuracy(test_labels, predictions_test)\n",
    "        return acc_test"
   ]
  },
  {
   "cell_type": "code",
   "execution_count": 229,
   "metadata": {},
   "outputs": [
    {
     "name": "stdout",
     "output_type": "stream",
     "text": [
      "Iter:     0 | Cost: 1.7325568 | Acc train: 0.1866667 | Acc validation: 0.1066667 \n",
      "Iter:    10 | Cost: 1.1136979 | Acc train: 0.3644444 | Acc validation: 0.2666667 \n",
      "Iter:    20 | Cost: 0.8126287 | Acc train: 0.7777778 | Acc validation: 0.8533333 \n",
      "Iter:    30 | Cost: 0.6979803 | Acc train: 0.8088889 | Acc validation: 0.8666667 \n",
      "Iter:    40 | Cost: 0.6376943 | Acc train: 0.8088889 | Acc validation: 0.8533333 \n",
      "Iter:    50 | Cost: 0.5945344 | Acc train: 0.8088889 | Acc validation: 0.8533333 \n",
      "Iter:    60 | Cost: 0.5765815 | Acc train: 0.8088889 | Acc validation: 0.8533333 \n",
      "Iter:    70 | Cost: 0.5548693 | Acc train: 0.8133333 | Acc validation: 0.8533333 \n",
      "Iter:    80 | Cost: 0.5480861 | Acc train: 0.8133333 | Acc validation: 0.8533333 \n",
      "Iter:    90 | Cost: 0.5376484 | Acc train: 0.8177778 | Acc validation: 0.8933333 \n",
      "Iter:   100 | Cost: 0.5353288 | Acc train: 0.8177778 | Acc validation: 0.8666667 \n",
      "Iter:   110 | Cost: 0.5326254 | Acc train: 0.8177778 | Acc validation: 0.8666667 \n",
      "Iter:   120 | Cost: 0.5282317 | Acc train: 0.8177778 | Acc validation: 0.8933333 \n",
      "Iter:   130 | Cost: 0.5273719 | Acc train: 0.8177778 | Acc validation: 0.8666667 \n",
      "Iter:   140 | Cost: 0.5261646 | Acc train: 0.8177778 | Acc validation: 0.8666667 \n",
      "Iter:   150 | Cost: 0.5240697 | Acc train: 0.8177778 | Acc validation: 0.8666667 \n"
     ]
    }
   ],
   "source": [
    "# Example: num_layers = 3\n",
    "AmpEnc_Classifier(X_train, Y_train, 3)"
   ]
  },
  {
   "cell_type": "markdown",
   "metadata": {},
   "source": [
    "Next, let's investigate how the accuracy of the testing dataset changes with the number of layers. The number of iterations is fixed to be 100."
   ]
  },
  {
   "cell_type": "code",
   "execution_count": 235,
   "metadata": {},
   "outputs": [
    {
     "name": "stdout",
     "output_type": "stream",
     "text": [
      "0.24166666666666667\n",
      "1.0\n",
      "1.0\n",
      "1.0\n",
      "1.0\n",
      "[0.24166666666666667, 1.0, 1.0, 1.0, 1.0]\n"
     ]
    }
   ],
   "source": [
    "acc_test_amp = []\n",
    "for num_layers in range(1, 10, 2):\n",
    "    acc_test = AmpEnc_Classifier(X_train, Y_train, num_layers, X_test, Y_test)\n",
    "    print(acc_test)\n",
    "    acc_test_amp.append(acc_test)\n",
    "\n",
    "print(acc_test_amp)"
   ]
  },
  {
   "cell_type": "code",
   "execution_count": 247,
   "metadata": {},
   "outputs": [
    {
     "data": {
      "image/png": "[encoded data removed]",
      "text/plain": [
       "<Figure size 576x432 with 1 Axes>"
      ]
     },
     "metadata": {
      "needs_background": "light"
     },
     "output_type": "display_data"
    }
   ],
   "source": [
    "plt.figure(figsize=(8,6))\n",
    "x = [i for i in range(1, 10, 2)]\n",
    "plt.plot(x, acc_test_amp, '-o')\n",
    "plt.xlabel(\"Number of Layers\")\n",
    "plt.ylabel(\"Testing Accuracy\")\n",
    "plt.show()"
   ]
  },
  {
   "cell_type": "markdown",
   "metadata": {},
   "source": [
    "From the plot above, we can see that with amplitude encoding and the current variational ansatz, 3 layers is already enough to reach the best performance."
   ]
  },
  {
   "cell_type": "markdown",
   "metadata": {},
   "source": [
    "#### 2. Angle Encoding"
   ]
  },
  {
   "cell_type": "markdown",
   "metadata": {},
   "source": [
    "Let us now try to encode the 4 features into rotation angles (e.g. RY gates) of 4 qubits."
   ]
  },
  {
   "cell_type": "code",
   "execution_count": 290,
   "metadata": {},
   "outputs": [],
   "source": [
    "def AngEnc_Classifier(train_sets, train_labels, num_layers, test_sets=None, test_labels=None):\n",
    "    \"\"\"\n",
    "    Train the classifier model based on angle embedding (RY) and computes the accuracy of the predictions based on the testing data.\n",
    "\n",
    "    Args:\n",
    "        - train_sets (np.ndarray): features of the training datasets\n",
    "        - train_labels (np.ndarray): labels (categories) of the training datasets\n",
    "        - num_layers (int): number of layers of the variational ansatz\n",
    "        - test_sets (np.ndarray): features of the testing datasets\n",
    "        - test_labels (np.ndarray): labels (categories) of the testing datasets\n",
    "\n",
    "    Returns:\n",
    "        - acc_test (float): accuracy of the predictions based on the testing datasets\n",
    "    \"\"\"\n",
    "\n",
    "    dev = qml.device(\"lightning.qubit\", wires=4)\n",
    "\n",
    "    # def layer(W):\n",
    "    #     # Start with a simple layer with RX, RY, RZ, and CNOT gates\n",
    "    #     for i in range(4):\n",
    "    #         qml.RX(W[i,0], wires=i)\n",
    "    #         qml.RY(W[i,1], wires=i)\n",
    "    #         qml.RZ(W[i,2], wires=i)\n",
    "    #     qml.CNOT(wires=[0,1])\n",
    "    #     qml.CNOT(wires=[1,2])\n",
    "    #     qml.CNOT(wires=[2,3])\n",
    "    #     qml.CNOT(wires=[3,1])\n",
    "\n",
    "    @qml.qnode(dev)\n",
    "    def circuit(weights, x):\n",
    "        qml.AngleEmbedding(x, wires=range(4), rotation='Y')\n",
    "        # Use Pennylane's StronglyEntanglingLayers as layers\n",
    "        qml.templates.layers.StronglyEntanglingLayers(weights, wires=range(4))\n",
    "        return qml.expval(qml.PauliZ(0))\n",
    "\n",
    "    def var_classifier(weights, bias, x):\n",
    "        return circuit(weights, x) + bias\n",
    "    \n",
    "    def cost(weights, bias, X, Y):\n",
    "        predictions = [var_classifier(weights, bias, x) for x in X]\n",
    "        return square_loss(predictions, Y)\n",
    "\n",
    "    # Set up the training procedure\n",
    "    data_size = len(train_sets)\n",
    "    train_size = int(0.75*data_size)\n",
    "    index = np.random.permutation(range(data_size))\n",
    "    X_train = train_sets[index[:train_size]]\n",
    "    Y_train = train_labels[index[:train_size]]\n",
    "    X_val = train_sets[index[train_size:]]\n",
    "    Y_val = train_labels[index[train_size:]]\n",
    "\n",
    "    init_weights = np.random.uniform(low=0, high=2*np.pi, size=(num_layers, 4, 3), requires_grad=True)\n",
    "    init_bias = np.array(0.0, requires_grad=True)\n",
    "    opt = qml.optimize.AdamOptimizer(0.05)\n",
    "    batch_size = 5\n",
    "    max_iters = 100\n",
    "\n",
    "    weights = init_weights\n",
    "    bias = init_bias\n",
    "\n",
    "    for i in range(max_iters+1):\n",
    "        batch_index = np.random.randint(0, train_size, (batch_size,))\n",
    "        X_train_batch = X_train[batch_index]\n",
    "        Y_train_batch = Y_train[batch_index]\n",
    "        weights, bias, _, _ = opt.step(cost, weights, bias, X_train_batch, Y_train_batch)\n",
    "\n",
    "        predictions_train = [np.sign(var_classifier(weights, bias, x)) for x in X_train]\n",
    "        predictions_val = [np.sign(var_classifier(weights, bias, x)) for x in X_val]\n",
    "\n",
    "        # Compare accuracy on train and validation sets\n",
    "        acc_train = accuracy(Y_train, predictions_train)\n",
    "        acc_val = accuracy(Y_val, predictions_val)\n",
    "\n",
    "        if test_sets is None and test_labels is None:\n",
    "            if i%10 == 0:\n",
    "                print(\n",
    "                \"Iter: {:5d} | Cost: {:0.7f} | Acc train: {:0.7f} | Acc validation: {:0.7f} \"\n",
    "                \"\".format(i, cost(weights, bias, train_sets, train_labels), acc_train, acc_val)\n",
    "                )\n",
    "\n",
    "    if test_sets is None and test_labels is None:\n",
    "        pass \n",
    "    else:\n",
    "        predictions_test = [np.sign(var_classifier(weights, bias, x)) for x in test_sets]\n",
    "        acc_test = accuracy(test_labels, predictions_test)\n",
    "        return acc_test"
   ]
  },
  {
   "cell_type": "code",
   "execution_count": 292,
   "metadata": {},
   "outputs": [
    {
     "name": "stdout",
     "output_type": "stream",
     "text": [
      "Iter:     0 | Cost: 1.2009955 | Acc train: 0.1955556 | Acc validation: 0.2000000 \n",
      "Iter:    10 | Cost: 0.9351794 | Acc train: 0.6622222 | Acc validation: 0.6800000 \n",
      "Iter:    20 | Cost: 0.8301140 | Acc train: 0.8177778 | Acc validation: 0.8266667 \n",
      "Iter:    30 | Cost: 0.7124695 | Acc train: 0.8222222 | Acc validation: 0.8400000 \n",
      "Iter:    40 | Cost: 0.7587405 | Acc train: 0.7333333 | Acc validation: 0.6133333 \n",
      "Iter:    50 | Cost: 0.6663283 | Acc train: 0.8266667 | Acc validation: 0.8400000 \n",
      "Iter:    60 | Cost: 0.6201278 | Acc train: 0.8222222 | Acc validation: 0.8400000 \n",
      "Iter:    70 | Cost: 0.5890056 | Acc train: 0.8133333 | Acc validation: 0.8266667 \n",
      "Iter:    80 | Cost: 0.5728518 | Acc train: 0.8177778 | Acc validation: 0.8400000 \n",
      "Iter:    90 | Cost: 0.5589555 | Acc train: 0.8177778 | Acc validation: 0.8400000 \n",
      "Iter:   100 | Cost: 0.5590651 | Acc train: 0.8177778 | Acc validation: 0.8400000 \n"
     ]
    }
   ],
   "source": [
    "AngEnc_Classifier(X_train, Y_train, 3)"
   ]
  },
  {
   "cell_type": "code",
   "execution_count": 293,
   "metadata": {},
   "outputs": [
    {
     "name": "stdout",
     "output_type": "stream",
     "text": [
      "1.0\n",
      "1.0\n",
      "1.0\n",
      "1.0\n",
      "1.0\n",
      "1.0\n",
      "1.0\n",
      "[1.0, 1.0, 1.0, 1.0, 1.0, 1.0, 1.0]\n"
     ]
    }
   ],
   "source": [
    "acc_test_ang = []\n",
    "for num_layers in range(1, 8):\n",
    "    acc_test = AngEnc_Classifier(X_train, Y_train, num_layers, X_test, Y_test)\n",
    "    print(acc_test)\n",
    "    acc_test_ang.append(acc_test)\n",
    "\n",
    "print(acc_test_ang)"
   ]
  },
  {
   "cell_type": "code",
   "execution_count": 295,
   "metadata": {},
   "outputs": [
    {
     "data": {
      "image/png": "[encoded data removed]",
      "text/plain": [
       "<Figure size 576x432 with 1 Axes>"
      ]
     },
     "metadata": {
      "needs_background": "light"
     },
     "output_type": "display_data"
    }
   ],
   "source": [
    "plt.figure(figsize=(8,6))\n",
    "x = [i for i in range(1, 8)]\n",
    "plt.plot(x, acc_test_ang, '-o')\n",
    "plt.xlabel(\"Number of Layers\")\n",
    "plt.ylabel(\"Testing Accuracy\")\n",
    "plt.show()"
   ]
  },
  {
   "cell_type": "markdown",
   "metadata": {},
   "source": [
    "Comparing to amplitude embedding, we achieved perfect accuracy of the testing datasets with just one layer using angle embedding. However, it should be noted that angle embedding uses N qubits for N features, instead of log_2(N) for amplitude embedding, and therefore, the number of parameters in the variational ansatz is also larger. This might be one of the reasons why the number of layers needed to reach the best performance is less for angle embedding compared to amplitude embedding, given the same number of training steps."
   ]
  },
  {
   "cell_type": "markdown",
   "metadata": {},
   "source": [
    "#### 3. Instantaneous Quantum Polynomial (IQP) Encoding "
   ]
  },
  {
   "cell_type": "code",
   "execution_count": 301,
   "metadata": {},
   "outputs": [],
   "source": [
    "def IQPEnc_Classifier(train_sets, train_labels, num_layers, test_sets=None, test_labels=None):\n",
    "    \"\"\"\n",
    "    Train the classifier model based on IQP encoding and computes the accuracy of the predictions based on the testing data.\n",
    "\n",
    "    Args:\n",
    "        - train_sets (np.ndarray): features of the training datasets\n",
    "        - train_labels (np.ndarray): labels (categories) of the training datasets\n",
    "        - num_layers (int): number of layers of the variational ansatz\n",
    "        - test_sets (np.ndarray): features of the testing datasets\n",
    "        - test_labels (np.ndarray): labels (categories) of the testing datasets\n",
    "\n",
    "    Returns:\n",
    "        - acc_test (float): accuracy of the predictions based on the testing datasets\n",
    "    \"\"\"\n",
    "\n",
    "    dev = qml.device(\"lightning.qubit\", wires=4)\n",
    "\n",
    "    # Manual IQP encoding\n",
    "    def state_prep(x):\n",
    "        S = [[0,1],[1,2],[2,3]]\n",
    "        for i in range(4):\n",
    "            qml.Hadamard(wires=i)\n",
    "        for j in range(4):\n",
    "            qml.RZ(x[j], wires=j)\n",
    "        for k in S:\n",
    "            qml.CNOT(wires=k)\n",
    "            qml.RZ(x[k[0]]*x[k[1]], wires=k[1])\n",
    "            qml.CNOT(wires=k)\n",
    "\n",
    "    @qml.qnode(dev)\n",
    "    def circuit(weights, x):\n",
    "        # qml.IQPEmbedding(x, wires=range(4))\n",
    "        state_prep(x)\n",
    "        # Use Pennylane's StronglyEntanglingLayers as layers\n",
    "        qml.templates.layers.StronglyEntanglingLayers(weights, wires=range(4))\n",
    "        return qml.expval(qml.PauliZ(0))\n",
    "\n",
    "    def var_classifier(weights, bias, x):\n",
    "        return circuit(weights, x) + bias\n",
    "    \n",
    "    def cost(weights, bias, X, Y):\n",
    "        predictions = [var_classifier(weights, bias, x) for x in X]\n",
    "        return square_loss(predictions, Y)\n",
    "\n",
    "    # Set up the training procedure\n",
    "    data_size = len(train_sets)\n",
    "    train_size = int(0.75*data_size)\n",
    "    index = np.random.permutation(range(data_size))\n",
    "    X_train = train_sets[index[:train_size]]\n",
    "    Y_train = train_labels[index[:train_size]]\n",
    "    X_val = train_sets[index[train_size:]]\n",
    "    Y_val = train_labels[index[train_size:]]\n",
    "\n",
    "    init_weights = np.random.uniform(low=0, high=2*np.pi, size=(num_layers, 4, 3), requires_grad=True)\n",
    "    init_bias = np.array(0.0, requires_grad=True)\n",
    "    opt = qml.optimize.AdamOptimizer(0.05)\n",
    "    batch_size = 5\n",
    "    max_iters = 100\n",
    "\n",
    "    weights = init_weights\n",
    "    bias = init_bias\n",
    "\n",
    "    for i in range(max_iters+1):\n",
    "        batch_index = np.random.randint(0, train_size, (batch_size,))\n",
    "        X_train_batch = X_train[batch_index]\n",
    "        Y_train_batch = Y_train[batch_index]\n",
    "        weights, bias, _, _ = opt.step(cost, weights, bias, X_train_batch, Y_train_batch)\n",
    "\n",
    "        predictions_train = [np.sign(var_classifier(weights, bias, x)) for x in X_train]\n",
    "        predictions_val = [np.sign(var_classifier(weights, bias, x)) for x in X_val]\n",
    "\n",
    "        # Compare accuracy on train and validation sets\n",
    "        acc_train = accuracy(Y_train, predictions_train)\n",
    "        acc_val = accuracy(Y_val, predictions_val)\n",
    "\n",
    "        if test_sets is None and test_labels is None:\n",
    "            if i%10 == 0:\n",
    "                print(\n",
    "                \"Iter: {:5d} | Cost: {:0.7f} | Acc train: {:0.7f} | Acc validation: {:0.7f} \"\n",
    "                \"\".format(i, cost(weights, bias, train_sets, train_labels), acc_train, acc_val)\n",
    "                )\n",
    "\n",
    "    if test_sets is None and test_labels is None:\n",
    "        pass \n",
    "    else:\n",
    "        predictions_test = [np.sign(var_classifier(weights, bias, x)) for x in test_sets]\n",
    "        acc_test = accuracy(test_labels, predictions_test)\n",
    "        return acc_test"
   ]
  },
  {
   "cell_type": "code",
   "execution_count": 302,
   "metadata": {},
   "outputs": [
    {
     "name": "stdout",
     "output_type": "stream",
     "text": [
      "Iter:     0 | Cost: 1.0748265 | Acc train: 0.5066667 | Acc validation: 0.3866667 \n",
      "Iter:    10 | Cost: 0.8370541 | Acc train: 0.7377778 | Acc validation: 0.8000000 \n",
      "Iter:    20 | Cost: 0.7175417 | Acc train: 0.8533333 | Acc validation: 0.8133333 \n",
      "Iter:    30 | Cost: 0.6302830 | Acc train: 0.8577778 | Acc validation: 0.7466667 \n",
      "Iter:    40 | Cost: 0.5874194 | Acc train: 0.8577778 | Acc validation: 0.7600000 \n",
      "Iter:    50 | Cost: 0.5639551 | Acc train: 0.8577778 | Acc validation: 0.7466667 \n",
      "Iter:    60 | Cost: 0.5504067 | Acc train: 0.8622222 | Acc validation: 0.7600000 \n",
      "Iter:    70 | Cost: 0.5400986 | Acc train: 0.8666667 | Acc validation: 0.7600000 \n",
      "Iter:    80 | Cost: 0.5397065 | Acc train: 0.8622222 | Acc validation: 0.7600000 \n",
      "Iter:    90 | Cost: 0.5419439 | Acc train: 0.8622222 | Acc validation: 0.7600000 \n",
      "Iter:   100 | Cost: 0.5834891 | Acc train: 0.8266667 | Acc validation: 0.7733333 \n"
     ]
    }
   ],
   "source": [
    "IQPEnc_Classifier(X_train, Y_train, 3)"
   ]
  },
  {
   "cell_type": "code",
   "execution_count": 303,
   "metadata": {},
   "outputs": [
    {
     "name": "stdout",
     "output_type": "stream",
     "text": [
      "0.9083333333333333\n",
      "1.0\n",
      "1.0\n",
      "1.0\n",
      "1.0\n",
      "[0.9083333333333333, 1.0, 1.0, 1.0, 1.0]\n"
     ]
    }
   ],
   "source": [
    "acc_test_IQP = []\n",
    "for num_layers in range(1, 6):\n",
    "    acc_test = IQPEnc_Classifier(X_train, Y_train, num_layers, X_test, Y_test)\n",
    "    print(acc_test)\n",
    "    acc_test_IQP.append(acc_test)\n",
    "\n",
    "print(acc_test_IQP)"
   ]
  },
  {
   "cell_type": "code",
   "execution_count": 305,
   "metadata": {},
   "outputs": [
    {
     "data": {
      "image/png": "[encoded data removed]",
      "text/plain": [
       "<Figure size 576x432 with 1 Axes>"
      ]
     },
     "metadata": {
      "needs_background": "light"
     },
     "output_type": "display_data"
    }
   ],
   "source": [
    "plt.figure(figsize=(8,6))\n",
    "x = [i for i in range(1, 6)]\n",
    "plt.plot(x, acc_test_IQP, '-o')\n",
    "plt.xlabel(\"Number of Layers\")\n",
    "plt.ylabel(\"Testing Accuracy\")\n",
    "plt.show()"
   ]
  },
  {
   "cell_type": "markdown",
   "metadata": {},
   "source": [
    "The performance with IQP encoding is similar to that of angle encoding, as IQP is a special form of angle encoding itself. But it is believed to make the encoding \"richer\" through interference, especially for larger feature sets."
   ]
  },
  {
   "cell_type": "markdown",
   "metadata": {},
   "source": []
  }
 ],
 "metadata": {
  "interpreter": {
   "hash": "32144526e3e48b1da32ceaab4ff5300b6c301be9548fec2b2ea4fc4d43cc13cc"
  },
  "kernelspec": {
   "display_name": "Python 3.8.8 ('base')",
   "language": "python",
   "name": "python3"
  },
  "language_info": {
   "codemirror_mode": {
    "name": "ipython",
    "version": 3
   },
   "file_extension": ".py",
   "mimetype": "text/x-python",
   "name": "python",
   "nbconvert_exporter": "python",
   "pygments_lexer": "ipython3",
   "version": "3.8.8"
  },
  "orig_nbformat": 4
 },
 "nbformat": 4,
 "nbformat_minor": 2
}
